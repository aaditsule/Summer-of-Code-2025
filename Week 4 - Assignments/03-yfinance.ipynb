{
 "cells": [
  {
   "cell_type": "markdown",
   "metadata": {},
   "source": [
    "# yfinance Library Assignment  "
   ]
  },
  {
   "cell_type": "code",
   "execution_count": 1,
   "metadata": {},
   "outputs": [],
   "source": [
    "import pandas as pd\n",
    "import yfinance as yf\n",
    "import matplotlib.pyplot as plt"
   ]
  },
  {
   "cell_type": "markdown",
   "metadata": {},
   "source": [
    "### Function Specification: `download_historical_data`\n",
    "\n",
    "Implement the function `download_historical_data` to fetch historical price data using Yahoo Finance as the data source. This function should be capable of fetching historical data for a specified stock symbol between given start and end dates. Additionally, it should support an optional parameter for the data timeframe with a default value of `'1d'` (daily).\n",
    "\n",
    "---\n",
    "\n",
    "### Function Specifications\n",
    "\n",
    "**Parameters:**\n",
    "- `symbol`: The ticker symbol of the stock (e.g., `'RELIANCE.NS'`).\n",
    "- `start_date`: Start date for the data in `'YYYY-MM-DD'` format.\n",
    "- `end_date`: End date for the data in `'YYYY-MM-DD'` format.\n",
    "- `timeframe`: The frequency of the data (`'1d'`, `'1wk'`, `'1mo'`), default is `'1d'`.\n",
    "\n",
    "**Return:**  \n",
    "A pandas `DataFrame` containing the fetched data.\n"
   ]
  },
  {
   "cell_type": "code",
   "execution_count": 2,
   "metadata": {},
   "outputs": [],
   "source": [
    "# Code Here "
   ]
  },
  {
   "cell_type": "markdown",
   "metadata": {},
   "source": [
    "### Visualization\n",
    "\n",
    "Create a function for plotting the stock closing prices. This function should accept parameters for the plot and its objective is to display the graph.\n",
    "   \n"
   ]
  },
  {
   "cell_type": "code",
   "execution_count": 3,
   "metadata": {},
   "outputs": [],
   "source": [
    "# Code here "
   ]
  },
  {
   "cell_type": "markdown",
   "metadata": {},
   "source": [
    "### Run the functions \n",
    "\n",
    "**Choose Stocks:**  \n",
    "   - Select any three stocks of your choice.\n",
    "   - Fetch their data for the time period from **2012 to 2022**.\n",
    "   - Select daily time frame i.e. 1d.\n",
    "\n",
    "**Plot the Data:**  \n",
    "   1. Plot the data for each stock separately.  \n",
    "   2. Combine the data and plot all three stocks on the **same graph** for comparison."
   ]
  },
  {
   "cell_type": "code",
   "execution_count": 4,
   "metadata": {},
   "outputs": [],
   "source": [
    "# Code here "
   ]
  },
  {
   "cell_type": "markdown",
   "metadata": {},
   "source": [
    "### Technical Analysis "
   ]
  },
  {
   "cell_type": "markdown",
   "metadata": {},
   "source": [
    "**Simple Moving Averages (SMA) and Exponential Moving Averages (EMA)**  \n",
    "   - Plot the SMA and EMA of 5 days of each of the three stocks that you have selected.\n",
    "   - SMA and EMA graph should be plotted on the same graph \n",
    "   - Hence you have to plot three graphs of each stock with SMA and EMA\n",
    "    "
   ]
  },
  {
   "cell_type": "code",
   "execution_count": 1,
   "metadata": {},
   "outputs": [],
   "source": [
    "# Code here "
   ]
  },
  {
   "cell_type": "markdown",
   "metadata": {},
   "source": [
    "**MACD**  \n",
    "   - Plot MACD and Signal line for each of the three stocks.\n",
    "   - Fast Length (Short-term EMA): 12 periods\n",
    "   - Slow Length (Long-term EMA): 26 periods\n",
    "   - Signal Line (Smoothing EMA): 9 periods\n",
    "\n",
    "    "
   ]
  },
  {
   "cell_type": "code",
   "execution_count": null,
   "metadata": {},
   "outputs": [],
   "source": [
    "# Code Here"
   ]
  },
  {
   "cell_type": "markdown",
   "metadata": {},
   "source": [
    "**RSI**  \n",
    "   - Plot RSI for each of the three stocks\n",
    "   - Period = 14 days \n",
    "   - Also show the overbought and oversold regions \n",
    "   - Overbought condition: RSI above 70\n",
    "   - Oversold condition: RSI below 30\n",
    "   \n",
    "    "
   ]
  },
  {
   "cell_type": "code",
   "execution_count": null,
   "metadata": {},
   "outputs": [],
   "source": [
    "# Code here"
   ]
  },
  {
   "cell_type": "markdown",
   "metadata": {},
   "source": [
    "### Summarize your analysis"
   ]
  },
  {
   "cell_type": "code",
   "execution_count": null,
   "metadata": {},
   "outputs": [],
   "source": [
    "\"\"\" Write your answer here \"\"\""
   ]
  }
 ],
 "metadata": {
  "kernelspec": {
   "display_name": "Python 3",
   "language": "python",
   "name": "python3"
  },
  "language_info": {
   "codemirror_mode": {
    "name": "ipython",
    "version": 3
   },
   "file_extension": ".py",
   "mimetype": "text/x-python",
   "name": "python",
   "nbconvert_exporter": "python",
   "pygments_lexer": "ipython3",
   "version": "3.12.4"
  }
 },
 "nbformat": 4,
 "nbformat_minor": 2
}
